{
 "cells": [
  {
   "cell_type": "markdown",
   "metadata": {},
   "source": [
    "# Distribuição de Poisson\n",
    "\n",
    "## Problemas motivadores\n",
    "\n",
    "1) Se a probabilidade de um indivíduo sofre uma reação nociva de um determinado remédio é de 0,1%, determine a probabilidade de, entre 2000 indivíduos: _(a)_ exatamente 3 sofrerem reação nociva; _(b)_ mais do que 2, sofrerem tal reação. Baseado nestas informações o remédio apresentado é seguro à saúde?\n",
    "\n",
    "2) De acordo com o departamento de trânsito de um determinado estado, o número médio de acidentes em um determinado trecho de rodovia é de 3 a cada 100 mil veículos que passa pelo local. Sabendo que a população da cidade onde encontra-se tal trecho é de 200 mil habitantes, calcule a probabilidade de haver: _(a)_ 0 (zero) acidentes; _(b)_ 2 acidentes; _(c)_ 6 acidentes; _(d)_ 8 acidentes; _(e)_ 10 acidentes; _(f)_ entre 4 e 10 acidentes. Utilize um histograma para plotar os resultados encontrados e analise se o local precisa de uma intervenção de segurança.\n",
    "\n",
    "3) Se em uma indústria aproximadamente 3% da produção apresenta algum defeito de fabricação, calcule a probabilidade de, em uma amostra de 100 peças, possuir: _(a)_ 0 defeituosas; _(b)_ 1 defeituosa; _(c)_ 2 defeituosas; _(d)_ 3 defeituosas; _(e)_ 4 defeituosas. Os resultados apresentados pela companhia, são satisfatórios? Justifique (utilize histogramas para ajudar em sua análise).\n",
    "\n",
    "4) Após o sucesso de sua passagem na indústria anterior, você foi contratado por uma outra indústria para trabalhar em um projeto análogo. Nesta nova companhia, o número de peças que apresentam algum defeito é de 10% da produção. Determine a probabilidade de, em uma amostra de 10 peças escolhidas ao acaso, exatamente duas serem defeituosas, mediante a seguinte análise: _(a)_ distribuição **binomial**; _(b)_ distribuição/aproximação de **Poisson**.\n",
    "\n",
    "Baseado nos problemas **4** e **5** determine os critérios em que a **_Distribuição de Poisson_** é vantajosa em relação à **_Distribuição Binomial_**. Explique porque é possível considerar estas duas distribuições. Qual a principal diferença entre essas distribuições e a distribuição normal?\n",
    "\n",
    "\n",
    "\n"
   ]
  },
  {
   "cell_type": "code",
   "execution_count": null,
   "metadata": {},
   "outputs": [],
   "source": [
    "import numpy as np\n",
    "import matplotlib.pyplot as plt\n",
    "from scipy.stats import poisson\n"
   ]
  },
  {
   "cell_type": "code",
   "execution_count": null,
   "metadata": {},
   "outputs": [],
   "source": [
    "# Parâmetro lambda (taxa média de ocorrências)\n",
    "lambda_value = 2\n",
    "\n",
    "# (a) Probabilidade de exatamente 3 pessoas sofrerem a reação\n",
    "# poisson.pmf(k, λ) = (e^(-λ) * λ^k) / k!\n",
    "prob_exatamente_3 = poisson.pmf(3, lambda_value) \n",
    "\n",
    "# (b) Probabilidade de mais do que 2 pessoas sofrerem a reação\n",
    "prob_mais_que_2 = 1 - poisson.cdf(2, lambda_value)\n",
    "\n",
    "print(f\"Probabilidade de exatamente 3 pessoas sofrerem a reação: {prob_exatamente_3:.4f}\")\n",
    "print(f\"Probabilidade de mais do que 2 pessoas sofrerem a reação: {prob_mais_que_2:.4f}\")\n"
   ]
  },
  {
   "cell_type": "code",
   "execution_count": null,
   "metadata": {},
   "outputs": [],
   "source": [
    "\n",
    "# Parâmetro lambda (média de acidentes)\n",
    "lambda_value = 6\n",
    "\n",
    "# (a) Probabilidade de 0 acidentes\n",
    "prob_0_acidentes = poisson.pmf(0, lambda_value)\n",
    "\n",
    "# (b) Probabilidade de 2 acidentes\n",
    "prob_2_acidentes = poisson.pmf(2, lambda_value)\n",
    "\n",
    "# (c) Probabilidade de 6 acidentes\n",
    "prob_6_acidentes = poisson.pmf(6, lambda_value)\n",
    "\n",
    "# (d) Probabilidade de 8 acidentes\n",
    "prob_8_acidentes = poisson.pmf(8, lambda_value)\n",
    "\n",
    "# (e) Probabilidade de 10 acidentes\n",
    "prob_10_acidentes = poisson.pmf(10, lambda_value)\n",
    "\n",
    "# (f) Probabilidade de entre 4 e 10 acidentes\n",
    "prob_4_a_10 = poisson.cdf(10, lambda_value) - poisson.cdf(3, lambda_value)\n",
    "\n",
    "# Exibir resultados\n",
    "print(f\"Probabilidade de 0 acidentes: {prob_0_acidentes:.4f}\")\n",
    "print(f\"Probabilidade de 2 acidentes: {prob_2_acidentes:.4f}\")\n",
    "print(f\"Probabilidade de 6 acidentes: {prob_6_acidentes:.4f}\")\n",
    "print(f\"Probabilidade de 8 acidentes: {prob_8_acidentes:.4f}\")\n",
    "print(f\"Probabilidade de 10 acidentes: {prob_10_acidentes:.4f}\")\n",
    "print(f\"Probabilidade de entre 4 e 10 acidentes: {prob_4_a_10:.4f}\")\n",
    "\n",
    "# Plotando o histograma\n",
    "k_values = np.arange(0, 11)\n",
    "pmf_values = poisson.pmf(k_values, lambda_value)\n",
    "\n",
    "plt.bar(k_values, pmf_values, color='blue', alpha=0.7)\n",
    "plt.xlabel('Número de Acidentes')\n",
    "plt.ylabel('Probabilidade')\n",
    "plt.title('Distribuição de Poisson: Número de Acidentes na Rodovia')\n",
    "plt.show()\n"
   ]
  }
 ],
 "metadata": {
  "language_info": {
   "name": "python"
  }
 },
 "nbformat": 4,
 "nbformat_minor": 2
}

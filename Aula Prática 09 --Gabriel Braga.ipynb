{
 "cells": [
  {
   "cell_type": "markdown",
   "metadata": {},
   "source": [
    "# Teoria da Amostragem (conceitos breves...)\n",
    "\n",
    "A teoria da amostragem é um estudos das relações existentes entre uma população e as amostras dela extraídas. É de grande valia para a avaliação de grandezas desconhecidas da população (como sua média, variância e desvio padrão), frequentemente denominadas **_parâmetros populacionais_** ou abreviadamente **_parâmetros_**, através do conhecimento das grandezas correspondentes das amostras (também como média, desvio padrão, etc...) muitas vezes denominadas **_estatísticas amostrais_** ou, abreviadamente **_estatísticas_**.\n",
    "\n",
    "A teoria da amostragem também é útil para determinar se as difereças observadas entre duas amostras são realmente devidas a uma variação casual ou se são verdadeiramente significativas. Exemplos dessas diferenças são utilizados por exemplo em amostragem de testes clínicos, de produção ou em processos de aferição de qualidade. \n",
    "\n",
    "A **_inferência estatística_** nada mais é do que o estudo de uma população a partir de suas amostras, com a indicação da precisão destas inferências baseadas pelo conhecimento da teoria da probabilidade.\n",
    "\n",
    "**Amostras Aleatórias** são amostras selecionadas (um subconjunto de indivíduos ou objetos) a partir de uma população maior (um grupo completo de indivíduos ou objetos), de forma que cada membro da população tenha uma chance igual de ser escolhido. Tais amostras são desejáveis porque tendem a ser representativas da população e minimizam os vieses na análise.\n",
    "\n",
    "Pense na amostragem aleatória como um sorteio. Por exemplo, se você quiser estudar as opiniões dos habitantes de uma cidade sobre um tema específico, seria muito difícil e cansativo entrevistar todos os moradores. Então, em vez disso, você pode realizar uma amostragem aleatória, selecionando um número menor de habitantes de forma aleatória e imparcial. Assim, todos os moradores têm a mesma chance de serem escolhidos, e a amostra resultante pode ser usada para inferir informações sobre a população como um todo.\n",
    "\n",
    "Essa abordagem permite que os pesquisadores façam generalizações e estimativas sobre a população maior com base nos dados coletados da amostra. Quando a amostragem aleatória é realizada corretamente, a amostra tende a refletir as características da população maior, tornando as análises mais precisas e confiáveis.\n",
    "\n",
    "Há várias técnicas para escolher uma amostra que represente bem a população maior. Aqui, vamos falar sobre quatro dessas técnicas:\n",
    "\n",
    "- Amostragem Aleatória Simples\n",
    "- Amostragem Sistemática\n",
    "- Amostragem Aleatória Estratificada\n",
    "- Amostragem por Conglomerado\n",
    "\n",
    "Para muitos casos, tipo a distribuição de médias, o teorema central do limite vai nos ajudar teoricamente, pois sabemos que os dados da ditribuição de amostragem converge para uma normal. Assim, para amostras maiores que 25 ($ N>25$) as amostras tendem a se comportar como uma distribuição normal, e o conhecimento da distribuição normal torna-se útil para facilitar a análise e possíveis inferências sobre a população. Embora se fala muito de big data, na prática, são boas amostras que são utilizadas para responder boas (e a maioria das) perguntas.\n",
    "\n",
    "## Amostragem aleatória simples\n",
    "\n",
    "Na amostragem aleatória simples, cada elemento da população tem a mesma chance de ser selecionado. Por exemplo, ao realizar uma pesquisa de opinião, podemos selecionar aleatoriamente um grupo de pessoas para entrevistar. Nesse método, escolhemos um grupo de pessoas ou coisas de forma completamente aleatória, dando a todos na população a mesma chance de serem selecionados.\n",
    "\n",
    "Para trabalhar a ideia de amostragem, vamos utilizar o arquivo **diamonds.csv**.\n"
   ]
  },
  {
   "cell_type": "code",
   "execution_count": null,
   "metadata": {},
   "outputs": [],
   "source": [
    "import numpy as np\n",
    "import matplotlib.pyplot as plt\n",
    "import pandas as pd\n",
    "import seaborn as sns\n",
    "import random"
   ]
  },
  {
   "cell_type": "code",
   "execution_count": null,
   "metadata": {},
   "outputs": [],
   "source": [
    "df = pd.read_csv('diamonds.csv')\n",
    "df.head()"
   ]
  },
  {
   "cell_type": "code",
   "execution_count": null,
   "metadata": {},
   "outputs": [],
   "source": [
    "sns.distplot(df['carat'])"
   ]
  },
  {
   "cell_type": "code",
   "execution_count": null,
   "metadata": {},
   "outputs": [],
   "source": [
    "## Explique o que este código está fazendo está fazendo\n",
    "## np.random.seed(1)\n",
    "\n",
    "amostra_simples = df.sample(frac=0.20)\n",
    "\n",
    "amostra_simples.shape"
   ]
  },
  {
   "cell_type": "code",
   "execution_count": null,
   "metadata": {},
   "outputs": [],
   "source": [
    "## Explique o que este código está fazendo está fazendo\n",
    "## np.random.seed(2)\n",
    "\n",
    "amostra_simples1 = df.sample(15000)\n",
    "\n",
    "amostra_simples1.shape"
   ]
  },
  {
   "cell_type": "markdown",
   "metadata": {},
   "source": [
    "## Amostragem Sistemática\n",
    "\n",
    "Aqui, seleciona-se a amostra seguindo um padrão específico pré-estabelecido. Esse método é útil quando temos uma lista organizada da população e queremos garantir uma distribuição mais uniforme dos elementos selecionados."
   ]
  },
  {
   "cell_type": "code",
   "execution_count": null,
   "metadata": {},
   "outputs": [],
   "source": [
    "## Explique o que este código está fazendo está fazendo\n",
    "## np.random.seed(3)\n",
    "\n",
    "aleatorio = np.random.choice(10)\n",
    "\n",
    "amostra_sistematica = np.arange(aleatorio,15000,150)\n",
    "amostra_sistematica"
   ]
  },
  {
   "cell_type": "code",
   "execution_count": null,
   "metadata": {},
   "outputs": [],
   "source": [
    "## Explique o que este código está fazendo está fazendo\n",
    "## np.random.seed(4)\n",
    "\n",
    "aleatorio = np.random.choice(10,1)\n",
    "passo = np.random.randint(120,300,1)\n",
    "print(passo)\n",
    "amostra_sistematica2 = np.arange(aleatorio,15000,passo)\n",
    "amostra_sistematica2"
   ]
  },
  {
   "cell_type": "markdown",
   "metadata": {},
   "source": [
    "## Amostragem Estratificada\n",
    "\n",
    "Nessa abordagem, divide-se a população em grupos menores homogêneos, chamados estratos, com base em alguma característica comum. Depois, seleciona-se uma amostra de cada estrato, proporcionalmente ao tamanho do estrato, usando amostragem simples ou sistemática. Isso garante que a amostra seja representativa de cada subgrupo da população."
   ]
  },
  {
   "cell_type": "code",
   "execution_count": null,
   "metadata": {},
   "outputs": [],
   "source": [
    "## Explique o que este código está fazendo está fazendo\n",
    "df['cut'].value_counts()"
   ]
  },
  {
   "cell_type": "markdown",
   "metadata": {},
   "source": [
    "### Exercício 1\n",
    "\n",
    "Divida a população, selecionando os casos pela variável 'cut', em amostras aleatórias de 20%"
   ]
  },
  {
   "cell_type": "code",
   "execution_count": null,
   "metadata": {},
   "outputs": [],
   "source": [
    "# Agrupar o DataFrame por 'cut' e aplicar a amostragem aleatória em cada grupo\n",
    "amostras_por_cut = df.groupby('cut').apply(lambda x: x.sample(frac=0.20))\n",
    "\n",
    "# Remover o índice multi-nível criado pelo groupby e aplicar a amostragem\n",
    "amostras_por_cut = amostras_por_cut.reset_index(drop=True)\n",
    "\n",
    "amostras_por_cut"
   ]
  },
  {
   "source": [
    "### Exercício 2\n",
    "\n",
    "Faça uma amostra com 20000 entradas, mantendo a proporção da variável 'cut' tal qual o arquivo original"
   ],
   "cell_type": "markdown",
   "metadata": {}
  },
  {
   "cell_type": "code",
   "execution_count": null,
   "metadata": {},
   "outputs": [],
   "source": [
    "# Calcula a proporção de cada valor em 'cut' no DataFrame original\n",
    "proporcoes_cut = df['cut'].value_counts(normalize=True)\n",
    "\n",
    "# Cria um DataFrame vazio para armazenar a amostra estratificada\n",
    "amostra_estratificada = pd.DataFrame()\n",
    "\n",
    "# Para cada valor em 'cut', amostra um número de linhas proporcional à sua frequência\n",
    "for valor_cut, proporcao in proporcoes_cut.items():\n",
    "  n_amostras = int(round(20000 * proporcao))  # Calcula o número de amostras para cada valor de 'cut'\n",
    "  amostra_valor_cut = df[df['cut'] == valor_cut].sample(n=n_amostras, replace=True)  # Amostra com reposição, se necessário\n",
    "  amostra_estratificada = pd.concat([amostra_estratificada, amostra_valor_cut])\n",
    "\n",
    "# Verifica se a amostra tem o tamanho desejado\n",
    "print(amostra_estratificada.shape)\n",
    "\n",
    "# Verifica a proporção de 'cut' na amostra estratificada\n",
    "print(amostra_estratificada['cut'].value_counts(normalize=True))\n",
    "\n",
    "# Comparar com a proporção original de 'cut'\n",
    "print(df['cut'].value_counts(normalize=True))"
   ]
  },
  {
   "cell_type": "markdown",
   "metadata": {},
   "source": [
    "### Exercício 3\n",
    "\n",
    "Plote histogramas para a variável quilate do arquivo original e de todas as amostras que vocês criaram em aula. Os resultados foram análogos?"
   ]
  },
  {
   "cell_type": "code",
   "execution_count": null,
   "metadata": {},
   "outputs": [],
   "source": [
    "# Histograma do arquivo original\n",
    "plt.figure(figsize=(10, 6))\n",
    "plt.hist(df['carat'], bins=30, alpha=0.5, label='Original')\n",
    "plt.title('Histograma da Variável Quilate (Carat) - Original')\n",
    "plt.xlabel('Quilate')\n",
    "plt.ylabel('Frequência')\n",
    "plt.legend()\n",
    "plt.show()\n",
    "\n",
    "# Histograma da amostra simples (frac=0.20)\n",
    "plt.figure(figsize=(10, 6))\n",
    "plt.hist(amostra_simples['carat'], bins=30, alpha=0.5, label='Amostra Simples (frac=0.20)')\n",
    "plt.title('Histograma da Variável Quilate (Carat) - Amostra Simples (frac=0.20)')\n",
    "plt.xlabel('Quilate')\n",
    "plt.ylabel('Frequência')\n",
    "plt.legend()\n",
    "plt.show()\n",
    "\n",
    "# Histograma da amostra simples (n=15000)\n",
    "plt.figure(figsize=(10, 6))\n",
    "plt.hist(amostra_simples1['carat'], bins=30, alpha=0.5, label='Amostra Simples (n=15000)')\n",
    "plt.title('Histograma da Variável Quilate (Carat) - Amostra Simples (n=15000)')\n",
    "plt.xlabel('Quilate')\n",
    "plt.ylabel('Frequência')\n",
    "plt.legend()\n",
    "plt.show()\n",
    "\n",
    "# Histograma da amostra sistemática (arange(aleatorio, 15000, 150))\n",
    "# Note que amostra_sistematica é um array de índices, precisamos usar esses índices para selecionar os dados do DataFrame\n",
    "amostra_sistematica_df = df.iloc[amostra_sistematica]\n",
    "plt.figure(figsize=(10, 6))\n",
    "plt.hist(amostra_sistematica_df['carat'], bins=30, alpha=0.5, label='Amostra Sistemática (passo 150)')\n",
    "plt.title('Histograma da Variável Quilate (Carat) - Amostra Sistemática (passo 150)')\n",
    "plt.xlabel('Quilate')\n",
    "plt.ylabel('Frequência')\n",
    "plt.legend()\n",
    "plt.show()\n",
    "\n",
    "# Histograma da amostra sistemática (arange(aleatorio, 15000, passo))\n",
    "# Note que amostra_sistematica2 é um array de índices, precisamos usar esses índices para selecionar os dados do DataFrame\n",
    "amostra_sistematica2_df = df.iloc[amostra_sistematica2]\n",
    "plt.figure(figsize=(10, 6))\n",
    "plt.hist(amostra_sistematica2_df['carat'], bins=30, alpha=0.5, label='Amostra Sistemática (passo variável)')\n",
    "plt.title('Histograma da Variável Quilate (Carat) - Amostra Sistemática (passo variável)')\n",
    "plt.xlabel('Quilate')\n",
    "plt.ylabel('Frequência')\n",
    "plt.legend()\n",
    "plt.show()\n",
    "\n",
    "# Histograma da amostra por cut\n",
    "plt.figure(figsize=(10, 6))\n",
    "plt.hist(amostras_por_cut['carat'], bins=30, alpha=0.5, label='Amostra por Cut')\n",
    "plt.title('Histograma da Variável Quilate (Carat) - Amostra por Cut')\n",
    "plt.xlabeel('Frequência')\n",
    "plt.legend()\n",
    "plt.show()\n",
    "\n",
    "\n",
    "# Histograma da amostra estratificada\n",
    "plt.figure(figsize=(10, 6))\n",
    "plt.hist(amostra_estratificada['carat'], bins=30, alpha=0.5, label='Amostra Estratificada')\n",
    "plt.title('Histograma da Variável Quilate (Carat) - Amostra Estratificada')\n",
    "plt.xlabel('Quilate')\n",
    "plt.ylabel('Frequência')\n",
    "plt.legend()\n",
    "plt.show()l('Quilate')\n",
    "plt.ylab"
   ]
  },
  {
   "cell_type": "markdown",
   "metadata": {},
   "source": [
    "### Referência\n",
    "\n",
    "Estatística para Análise de Dados com Python (Prof. Luciano Galdino)\n",
    "\n",
    "https://medium.com/@pablovictords/estat%C3%ADstica-na-pr%C3%A1tica-com-python-amostragem-aleat%C3%B3ria-7f252495e042\n",
    "\n",
    "https://icd-ufmg.github.io/08-amostragem/"
   ]
  }
 ],
 "metadata": {
  "language_info": {
   "name": "python"
  }
 },
 "nbformat": 4,
 "nbformat_minor": 2
}
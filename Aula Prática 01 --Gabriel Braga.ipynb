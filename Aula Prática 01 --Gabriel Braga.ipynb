{
 "cells": [
  {
   "cell_type": "markdown",
   "metadata": {},
   "source": [
    "# Começando em Python...\n",
    "\n",
    "O objetivo desta aula bem com sua atividade é apresentar algumas características do Python e, neste primeiro momento, algumas funcionalidades básicas e bibliotecas importantes\n",
    "\n",
    "## 1º Exemplo: O clássico \"Olá Mundo!\"\n",
    " "
   ]
  },
  {
   "cell_type": "code",
   "execution_count": 1,
   "metadata": {},
   "outputs": [
    {
     "name": "stdout",
     "output_type": "stream",
     "text": [
      "Olá mundo\n",
      "olá mundo, de novo\n"
     ]
    }
   ],
   "source": [
    "#Para escrever algo em tela, após compilação, basta usar o comando 'print', como na sintaxe abaixo\n",
    "print(\"Olá mundo\")\n",
    "\n",
    "# Comentários iniciam-se com hashtag e não precisam ser fechados\n",
    "# Comentários não aparecem na saída do código após o mesmo ser compilado e também não tem quebra de linha\n",
    "# Comentários também podem ser inseridos ao final de uma linha de comando\n",
    "\n",
    "print(\"olá mundo, de novo\")   #teste de comentário\n",
    "\n"
   ]
  },
  {
   "cell_type": "markdown",
   "metadata": {},
   "source": [
    "## 2º Exemplo: Variáveis\n",
    "\n",
    "Variáveis são nomes associados a objetos em particular. Elas podem ser uma referências, um ponteiro ou um endereço. "
   ]
  },
  {
   "cell_type": "code",
   "execution_count": 2,
   "metadata": {},
   "outputs": [
    {
     "name": "stdout",
     "output_type": "stream",
     "text": [
      "nossa aula de teste\n",
      "<class 'str'>\n"
     ]
    },
    {
     "data": {
      "text/plain": [
       "'\\nEste bloco de comentários aparece após a compilação do código\\n'"
      ]
     },
     "execution_count": 2,
     "metadata": {},
     "output_type": "execute_result"
    }
   ],
   "source": [
    "mensagem = \"nossa aula de teste\"\n",
    "\n",
    "print(mensagem)\n",
    "print(type(mensagem))\n",
    "\n",
    "\"\"\"\n",
    "Este bloco de comentários aparece após a compilação do código\n",
    "\"\"\""
   ]
  },
  {
   "cell_type": "markdown",
   "metadata": {},
   "source": [
    "O bom senso indica que o nome das variáveis tenham relação com o que representam e não sejam muito longas, para evitar eventuais problemas.\n",
    "\n",
    "### Importante\n",
    "Nomes de variáveis em Python aceitam letras maiúsculas, minúsculas (Case Sensitive) além de números e o símbolo de subscrito ( _ ).\n",
    "\n",
    "As variáveis podem apresentar termos compostos, com letras minúsculas, separadas por subscrito, o que é conhecido com snake_case.\n",
    "\n",
    "Também é possível combinar letras maiúsculas e minúsculas, que denomina-se PacalCase."
   ]
  },
  {
   "cell_type": "markdown",
   "metadata": {},
   "source": [
    "## Palavras chave\n",
    "\n",
    "Algumas palavras são de uso exclusivo da linguagem (syntax) e não podem ser utilizadas como nome de variáveis. Para saber quais estas palavras, basta digitar o comando help(\"keywords\")"
   ]
  },
  {
   "cell_type": "code",
   "execution_count": 3,
   "metadata": {},
   "outputs": [
    {
     "name": "stdout",
     "output_type": "stream",
     "text": [
      "\n",
      "Here is a list of the Python keywords.  Enter any keyword to get more help.\n",
      "\n",
      "False               class               from                or\n",
      "None                continue            global              pass\n",
      "True                def                 if                  raise\n",
      "and                 del                 import              return\n",
      "as                  elif                in                  try\n",
      "assert              else                is                  while\n",
      "async               except              lambda              with\n",
      "await               finally             nonlocal            yield\n",
      "break               for                 not                 \n",
      "\n"
     ]
    }
   ],
   "source": [
    "help(\"keywords\")"
   ]
  },
  {
   "cell_type": "markdown",
   "metadata": {},
   "source": [
    "## Ainda mais sobre variáveis\n",
    "Em relação a números podemos utilizar Inteiros, Pontos flutuantes (números com casas decimais) e números complexos.\n",
    "\n",
    "### Importante:\n",
    "Em Python as casas decimais de um número são separadas por ponto!"
   ]
  },
  {
   "cell_type": "code",
   "execution_count": 4,
   "metadata": {},
   "outputs": [
    {
     "name": "stdout",
     "output_type": "stream",
     "text": [
      "3\n",
      "<class 'int'>\n",
      "2.1\n",
      "(1+2j)\n",
      "(2+2j)\n"
     ]
    }
   ],
   "source": [
    "# Tipos de variáveis\n",
    "# int\n",
    "a = 1\n",
    "b = 2\n",
    "print(a+b)\n",
    "print(type(a))\n",
    "# float\n",
    "c = 1.0\n",
    "d = 1.1\n",
    "print(c+d)\n",
    "type(c)\n",
    "x = complex(1,2)\n",
    "print(x)\n",
    "print(x+a)"
   ]
  },
  {
   "cell_type": "markdown",
   "metadata": {},
   "source": [
    "## Operadores"
   ]
  },
  {
   "cell_type": "code",
   "execution_count": 5,
   "metadata": {},
   "outputs": [
    {
     "data": {
      "text/plain": [
       "125"
      ]
     },
     "execution_count": 5,
     "metadata": {},
     "output_type": "execute_result"
    }
   ],
   "source": [
    "#Soma\n",
    "5 + 3\n",
    "\n",
    "#Subtração\n",
    "5-3\n",
    "\n",
    "#Multiplicação\n",
    "5*3\n",
    "\n",
    "#Divisão\n",
    "5/3\n",
    "\n",
    "#Parte inteira da divisão\n",
    "5//3\n",
    "\n",
    "#Resto da divisão\n",
    "5%3\n",
    "\n",
    "#Potência\n",
    "5**3"
   ]
  },
  {
   "cell_type": "markdown",
   "metadata": {},
   "source": [
    "## Operadores Booleanos\n",
    "\n",
    "Operadores booleanos são implementados como uma subclasse de inteiros, com apenas dois valores possíveis em Python \"True\" ou \"False\".\n",
    "Estes valores são úteis na comparação de lógica de valores (maior que >, menor que < ou igual ==) ou funções de predicado."
   ]
  },
  {
   "cell_type": "code",
   "execution_count": 6,
   "metadata": {},
   "outputs": [
    {
     "data": {
      "text/plain": [
       "True"
      ]
     },
     "execution_count": 6,
     "metadata": {},
     "output_type": "execute_result"
    }
   ],
   "source": [
    "2< 5\n",
    "\n",
    "4 > 10\n",
    "\n",
    "4 <= 3\n",
    "\n",
    "3>=3\n",
    "\n",
    "5==6\n",
    "\n",
    "6!=9  # o sinal != significa diferente"
   ]
  },
  {
   "cell_type": "markdown",
   "metadata": {},
   "source": [
    "## Strings\n",
    "\n",
    "Strings são fragmentos de textos ou caracteres e podem ser definidos usando aspas simples, duplas ou triplas.\n"
   ]
  },
  {
   "cell_type": "code",
   "execution_count": 7,
   "metadata": {},
   "outputs": [
    {
     "data": {
      "text/plain": [
       "'Hello world'"
      ]
     },
     "execution_count": 7,
     "metadata": {},
     "output_type": "execute_result"
    }
   ],
   "source": [
    "#Aspas Simples\n",
    "mensagem = 'Hello world'\n",
    "mensagem"
   ]
  },
  {
   "cell_type": "code",
   "execution_count": 8,
   "metadata": {},
   "outputs": [
    {
     "data": {
      "text/plain": [
       "'Hello world'"
      ]
     },
     "execution_count": 8,
     "metadata": {},
     "output_type": "execute_result"
    }
   ],
   "source": [
    "#Aspas Duplas\n",
    "mensagem = \"Hello world\"\n",
    "mensagem"
   ]
  },
  {
   "cell_type": "code",
   "execution_count": 9,
   "metadata": {},
   "outputs": [
    {
     "data": {
      "text/plain": [
       "'Hello world'"
      ]
     },
     "execution_count": 9,
     "metadata": {},
     "output_type": "execute_result"
    }
   ],
   "source": [
    "#Aspas Triplas\n",
    "mensagem = \"\"\"Hello world\"\"\"\n",
    "mensagem"
   ]
  },
  {
   "cell_type": "code",
   "execution_count": 10,
   "metadata": {},
   "outputs": [
    {
     "data": {
      "text/plain": [
       "'hello world'"
      ]
     },
     "execution_count": 10,
     "metadata": {},
     "output_type": "execute_result"
    }
   ],
   "source": [
    "# Juntando expressões\n",
    "\"hello\" + \" \" + \"world\""
   ]
  },
  {
   "cell_type": "code",
   "execution_count": 11,
   "metadata": {},
   "outputs": [
    {
     "data": {
      "text/plain": [
       "'HELLO WORLD'"
      ]
     },
     "execution_count": 11,
     "metadata": {},
     "output_type": "execute_result"
    }
   ],
   "source": [
    "#Maiúsculas\n",
    "\"hello world\".upper()"
   ]
  },
  {
   "cell_type": "code",
   "execution_count": 12,
   "metadata": {},
   "outputs": [
    {
     "data": {
      "text/plain": [
       "'hello world'"
      ]
     },
     "execution_count": 12,
     "metadata": {},
     "output_type": "execute_result"
    }
   ],
   "source": [
    "#Minúsculas\n",
    "\"HELLO WORLD\".lower()"
   ]
  },
  {
   "cell_type": "code",
   "execution_count": 13,
   "metadata": {},
   "outputs": [
    {
     "data": {
      "text/plain": [
       "'Hello'"
      ]
     },
     "execution_count": 13,
     "metadata": {},
     "output_type": "execute_result"
    }
   ],
   "source": [
    "#Retirando strings de uma expressão\n",
    "\n",
    "boas_vindas = \"Hello world\"\n",
    "boas_vindas[0:5]    # Importante que o contador deve começar em 0 (zero)"
   ]
  },
  {
   "cell_type": "markdown",
   "metadata": {},
   "source": [
    "## Vamos a um pequeno código..."
   ]
  },
  {
   "cell_type": "code",
   "execution_count": 14,
   "metadata": {},
   "outputs": [
    {
     "name": "stdout",
     "output_type": "stream",
     "text": [
      "<class 'bool'>\n",
      "Vamos começar essa aula de uma vez!\n"
     ]
    }
   ],
   "source": [
    "tomou_cafe = False # True\n",
    "print(type(tomou_cafe))\n",
    "if tomou_cafe:\n",
    "    mensagem = \"Bom dia, turma querida!\"\n",
    "else:\n",
    "    mensagem = \"Vamos começar essa aula de uma vez!\"\n",
    "print(mensagem)"
   ]
  },
  {
   "cell_type": "code",
   "execution_count": 15,
   "metadata": {},
   "outputs": [
    {
     "name": "stdout",
     "output_type": "stream",
     "text": [
      "\n",
      "Prof. Felipe disse: A função retorna este valor\n"
     ]
    }
   ],
   "source": [
    "## Definição de função em Python\n",
    "\n",
    "def escrever_mensagem(mensagem=\"\"):\n",
    "    \n",
    "    # Este comentário gera o help da função\n",
    "    \"\"\"\n",
    "    Constrói a mensagem do professor Felipe\n",
    "    RETURNS: str\n",
    "    \"\"\"\n",
    "    mensagem = \"Prof. Felipe disse: \" + mensagem\n",
    "    return mensagem\n",
    "escrever_mensagem()\n",
    "print()\n",
    "print(escrever_mensagem('A função retorna este valor'))"
   ]
  },
  {
   "cell_type": "code",
   "execution_count": 16,
   "metadata": {},
   "outputs": [
    {
     "name": "stdout",
     "output_type": "stream",
     "text": [
      "Help on function escrever_mensagem in module __main__:\n",
      "\n",
      "escrever_mensagem(mensagem='')\n",
      "    Constrói a mensagem do professor Felipe\n",
      "    RETURNS: str\n",
      "\n"
     ]
    }
   ],
   "source": [
    "help(escrever_mensagem)"
   ]
  },
  {
   "cell_type": "markdown",
   "metadata": {},
   "source": [
    "## Voltando à tabela de salários\n",
    "\n",
    "Rode os códigos abaixo, considerando o arquivo TabelaSalarial.csv e responda às perguntas ao final.\n",
    "\n",
    "O prazo final para entrega desta atividade é dia 14 de agosto, quarta-feira, às 23h59\n"
   ]
  },
  {
   "cell_type": "code",
   "execution_count": 17,
   "metadata": {},
   "outputs": [
    {
     "data": {
      "text/html": [
       "<div>\n",
       "<style scoped>\n",
       "    .dataframe tbody tr th:only-of-type {\n",
       "        vertical-align: middle;\n",
       "    }\n",
       "\n",
       "    .dataframe tbody tr th {\n",
       "        vertical-align: top;\n",
       "    }\n",
       "\n",
       "    .dataframe thead th {\n",
       "        text-align: right;\n",
       "    }\n",
       "</style>\n",
       "<table border=\"1\" class=\"dataframe\">\n",
       "  <thead>\n",
       "    <tr style=\"text-align: right;\">\n",
       "      <th></th>\n",
       "      <th>N</th>\n",
       "      <th>Estado Civil</th>\n",
       "      <th>Grau de Instrução</th>\n",
       "      <th>N de Filhos</th>\n",
       "      <th>Salario (x Sal Min)</th>\n",
       "      <th>Idade (em anos)</th>\n",
       "      <th>Região de Procedência</th>\n",
       "    </tr>\n",
       "  </thead>\n",
       "  <tbody>\n",
       "    <tr>\n",
       "      <th>0</th>\n",
       "      <td>1</td>\n",
       "      <td>solteiro</td>\n",
       "      <td>ensino fundamental</td>\n",
       "      <td>NaN</td>\n",
       "      <td>4.00</td>\n",
       "      <td>26</td>\n",
       "      <td>interior</td>\n",
       "    </tr>\n",
       "    <tr>\n",
       "      <th>1</th>\n",
       "      <td>2</td>\n",
       "      <td>casado</td>\n",
       "      <td>ensino fundamental</td>\n",
       "      <td>1.0</td>\n",
       "      <td>4.56</td>\n",
       "      <td>32</td>\n",
       "      <td>capital</td>\n",
       "    </tr>\n",
       "    <tr>\n",
       "      <th>2</th>\n",
       "      <td>3</td>\n",
       "      <td>casado</td>\n",
       "      <td>ensino fundamental</td>\n",
       "      <td>2.0</td>\n",
       "      <td>5.25</td>\n",
       "      <td>36</td>\n",
       "      <td>capital</td>\n",
       "    </tr>\n",
       "    <tr>\n",
       "      <th>3</th>\n",
       "      <td>4</td>\n",
       "      <td>solteiro</td>\n",
       "      <td>ensino médio</td>\n",
       "      <td>NaN</td>\n",
       "      <td>5.73</td>\n",
       "      <td>20</td>\n",
       "      <td>outra</td>\n",
       "    </tr>\n",
       "    <tr>\n",
       "      <th>4</th>\n",
       "      <td>5</td>\n",
       "      <td>solteiro</td>\n",
       "      <td>ensino fundamental</td>\n",
       "      <td>NaN</td>\n",
       "      <td>6.26</td>\n",
       "      <td>40</td>\n",
       "      <td>outra</td>\n",
       "    </tr>\n",
       "  </tbody>\n",
       "</table>\n",
       "</div>"
      ],
      "text/plain": [
       "   N Estado Civil   Grau de Instrução  N de Filhos  Salario (x Sal Min)  \\\n",
       "0  1     solteiro  ensino fundamental          NaN                 4.00   \n",
       "1  2       casado  ensino fundamental          1.0                 4.56   \n",
       "2  3       casado  ensino fundamental          2.0                 5.25   \n",
       "3  4     solteiro        ensino médio          NaN                 5.73   \n",
       "4  5     solteiro  ensino fundamental          NaN                 6.26   \n",
       "\n",
       "   Idade (em anos) Região de Procedência  \n",
       "0               26              interior  \n",
       "1               32               capital  \n",
       "2               36               capital  \n",
       "3               20                 outra  \n",
       "4               40                 outra  "
      ]
     },
     "execution_count": 17,
     "metadata": {},
     "output_type": "execute_result"
    }
   ],
   "source": [
    "import pandas as pd\n",
    "dados = pd.read_csv('TabelaSalarial.csv')\n",
    "dados.head()"
   ]
  },
  {
   "cell_type": "code",
   "execution_count": 18,
   "metadata": {},
   "outputs": [
    {
     "data": {
      "text/html": [
       "<div>\n",
       "<style scoped>\n",
       "    .dataframe tbody tr th:only-of-type {\n",
       "        vertical-align: middle;\n",
       "    }\n",
       "\n",
       "    .dataframe tbody tr th {\n",
       "        vertical-align: top;\n",
       "    }\n",
       "\n",
       "    .dataframe thead th {\n",
       "        text-align: right;\n",
       "    }\n",
       "</style>\n",
       "<table border=\"1\" class=\"dataframe\">\n",
       "  <thead>\n",
       "    <tr style=\"text-align: right;\">\n",
       "      <th></th>\n",
       "      <th>N</th>\n",
       "      <th>N de Filhos</th>\n",
       "      <th>Salario (x Sal Min)</th>\n",
       "      <th>Idade (em anos)</th>\n",
       "    </tr>\n",
       "  </thead>\n",
       "  <tbody>\n",
       "    <tr>\n",
       "      <th>count</th>\n",
       "      <td>36.000000</td>\n",
       "      <td>20.000000</td>\n",
       "      <td>36.000000</td>\n",
       "      <td>36.000000</td>\n",
       "    </tr>\n",
       "    <tr>\n",
       "      <th>mean</th>\n",
       "      <td>18.500000</td>\n",
       "      <td>1.650000</td>\n",
       "      <td>11.122222</td>\n",
       "      <td>34.583333</td>\n",
       "    </tr>\n",
       "    <tr>\n",
       "      <th>std</th>\n",
       "      <td>10.535654</td>\n",
       "      <td>1.268028</td>\n",
       "      <td>4.587458</td>\n",
       "      <td>6.737422</td>\n",
       "    </tr>\n",
       "    <tr>\n",
       "      <th>min</th>\n",
       "      <td>1.000000</td>\n",
       "      <td>0.000000</td>\n",
       "      <td>4.000000</td>\n",
       "      <td>20.000000</td>\n",
       "    </tr>\n",
       "    <tr>\n",
       "      <th>25%</th>\n",
       "      <td>9.750000</td>\n",
       "      <td>1.000000</td>\n",
       "      <td>7.552500</td>\n",
       "      <td>30.000000</td>\n",
       "    </tr>\n",
       "    <tr>\n",
       "      <th>50%</th>\n",
       "      <td>18.500000</td>\n",
       "      <td>2.000000</td>\n",
       "      <td>10.165000</td>\n",
       "      <td>34.500000</td>\n",
       "    </tr>\n",
       "    <tr>\n",
       "      <th>75%</th>\n",
       "      <td>27.250000</td>\n",
       "      <td>2.000000</td>\n",
       "      <td>14.060000</td>\n",
       "      <td>40.000000</td>\n",
       "    </tr>\n",
       "    <tr>\n",
       "      <th>max</th>\n",
       "      <td>36.000000</td>\n",
       "      <td>5.000000</td>\n",
       "      <td>23.300000</td>\n",
       "      <td>48.000000</td>\n",
       "    </tr>\n",
       "  </tbody>\n",
       "</table>\n",
       "</div>"
      ],
      "text/plain": [
       "               N  N de Filhos  Salario (x Sal Min)  Idade (em anos)\n",
       "count  36.000000    20.000000            36.000000        36.000000\n",
       "mean   18.500000     1.650000            11.122222        34.583333\n",
       "std    10.535654     1.268028             4.587458         6.737422\n",
       "min     1.000000     0.000000             4.000000        20.000000\n",
       "25%     9.750000     1.000000             7.552500        30.000000\n",
       "50%    18.500000     2.000000            10.165000        34.500000\n",
       "75%    27.250000     2.000000            14.060000        40.000000\n",
       "max    36.000000     5.000000            23.300000        48.000000"
      ]
     },
     "execution_count": 18,
     "metadata": {},
     "output_type": "execute_result"
    }
   ],
   "source": [
    "import matplotlib\n",
    "dados.describe()"
   ]
  },
  {
   "cell_type": "markdown",
   "metadata": {},
   "source": [
    "### Perguntas:\n",
    "\n",
    "1) o que faz o código acima (dados.describe())?\n",
    "\n",
    "2) Quais informações são apresentadas?\n",
    "\n",
    "3) Todas as variáveis têm o mesmo número de informações?\n",
    "\n",
    "4) O que significa a variável \"mean\" e \"std\"?\n",
    "\n",
    "5) Considerando o o máximo, o mínimo, a média e o \"std\", o que podemos inferir sobre as variáveis nº de filhos, salário e idade?\n",
    "\n",
    "6) Por que não aparecem as variáveis \"Grau de instrução\" e \"Região de Procedência\"?\n",
    "\n",
    "7) Considerando todas as análises e informações coletadas, a média é um bom indicativo para os dados?\n",
    "\n",
    "8) Calcule a mediana e a moda dos dados apresentados na saída dados.describe(). Os valores encontrados são próximos à média?"
   ]
  },
  {
   "cell_type": "markdown",
   "metadata": {},
   "source": [
    "1) Descreve as variáveis numéricas da tabela em medidas\n",
    "\n",
    "2) São apresentados conteúdos resumos dessas variáveis\n",
    "\n",
    "3) Para a categoria numérica, sim.\n",
    "\n",
    "4) Média e o Desvio padrão\n",
    "\n",
    "5) 1.268028,\t4.587458,\t6.737422 são as médias respctivas. Podemos inferiir que nessa ordem temos um crescente dispersão nos seus dados\n",
    "\n",
    "6) Por que a descrição tem orientação específica a medidas resumos, o que segrega os tipos de variáveis.\n",
    "\n",
    "7) Depende, sozinha não.\n",
    "\n",
    "8) 2.000000,\t10.165000,\t34.500000 são as medianas como exposto em \"50%\". Dados as dimensões, Número de filhos e idades está relativamente perto, no entanto, a de salário não."
   ]
  }
 ],
 "metadata": {
  "kernelspec": {
   "display_name": "Python 3",
   "language": "python",
   "name": "python3"
  },
  "language_info": {
   "codemirror_mode": {
    "name": "ipython",
    "version": 3
   },
   "file_extension": ".py",
   "mimetype": "text/x-python",
   "name": "python",
   "nbconvert_exporter": "python",
   "pygments_lexer": "ipython3",
   "version": "3.12.5"
  }
 },
 "nbformat": 4,
 "nbformat_minor": 2
}
